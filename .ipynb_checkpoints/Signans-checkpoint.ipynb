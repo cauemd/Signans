{
 "cells": [
  {
   "cell_type": "markdown",
   "id": "comparative-sample",
   "metadata": {},
   "source": [
    "# Signans - ASL Detector"
   ]
  },
  {
   "cell_type": "code",
   "execution_count": null,
   "id": "grave-control",
   "metadata": {},
   "outputs": [],
   "source": [
    "import tensorflow as tf\n",
    "import tensorflow_hub as hub\n",
    "import threading\n",
    "import cv2 \n",
    "import numpy as np\n",
    "import sys\n",
    "import os\n",
    "import time\n",
    "import six\n",
    "import argparse\n",
    "from object_detection.utils import config_util\n",
    "from object_detection.protos import pipeline_pb2\n",
    "from google.protobuf import text_format\n",
    "from gtts import gTTS\n",
    "from IPython.display import Audio\n",
    "from object_detection.utils import label_map_util\n",
    "from object_detection.utils import visualization_utils as viz_utils\n",
    "from object_detection.builders import model_builder\n",
    "from autocorrect import Speller\n",
    "from pydub import AudioSegment\n",
    "from pydub.playback import play\n",
    "from google.cloud import translate_v2 as translate\n",
    "from random import *\n"
   ]
  },
  {
   "cell_type": "code",
   "execution_count": null,
   "id": "pressing-capture",
   "metadata": {},
   "outputs": [],
   "source": [
    "google = os.path.join(os.getcwd(), \"stately-vector.json\")\n",
    "%env GOOGLE_APPLICATION_CREDENTIALS= google"
   ]
  },
  {
   "cell_type": "code",
   "execution_count": null,
   "id": "fatal-equation",
   "metadata": {},
   "outputs": [],
   "source": [
    "config_file = os.path.join('TensorFlow-Model', 'pipeline.config')\n",
    "config = config_util.get_configs_from_pipeline_file(config_file)\n",
    "# Loading the model\n",
    "detection_model = model_builder.build(model_config=config['model'], is_training=False)\n",
    "ckpt = tf.compat.v2.train.Checkpoint(model=detection_model)\n",
    "ckpt.restore(os.path.join('TensorFlow-Model', 'checkpoint', 'ckpt-0')).expect_partial()"
   ]
  },
  {
   "cell_type": "code",
   "execution_count": null,
   "id": "weighted-cargo",
   "metadata": {},
   "outputs": [],
   "source": [
    "@tf.function\n",
    "def detect_fn(image):\n",
    "    image, shapes = detection_model.preprocess(image)\n",
    "    prediction_dict = detection_model.predict(image, shapes)\n",
    "    detections = detection_model.postprocess(prediction_dict, shapes)\n",
    "    return detections"
   ]
  },
  {
   "cell_type": "code",
   "execution_count": null,
   "id": "funny-discipline",
   "metadata": {},
   "outputs": [],
   "source": [
    "category_index = label_map_util.create_category_index_from_labelmap(os.path.join('label_map.pbtxt'))"
   ]
  },
  {
   "cell_type": "code",
   "execution_count": null,
   "id": "spread-hanging",
   "metadata": {},
   "outputs": [],
   "source": [
    "# OPEN CV capture\n",
    "cap = cv2.VideoCapture(0)\n",
    "width = int(cap.get(cv2.CAP_PROP_FRAME_WIDTH))\n",
    "height = int(cap.get(cv2.CAP_PROP_FRAME_HEIGHT))"
   ]
  },
  {
   "cell_type": "markdown",
   "id": "lesbian-egyptian",
   "metadata": {},
   "source": [
    "### Set Variables Below"
   ]
  },
  {
   "cell_type": "code",
   "execution_count": null,
   "id": "intelligent-queen",
   "metadata": {},
   "outputs": [],
   "source": [
    "output_language = \"en-uk\"\n",
    "detection_speed =  2"
   ]
  },
  {
   "cell_type": "code",
   "execution_count": null,
   "id": "floating-biotechnology",
   "metadata": {},
   "outputs": [],
   "source": [
    "lastest_reading = \"\"\n",
    "phrase = \"\"\n",
    "top_domain = {'pt-br':'com.br',\n",
    "              'pt':'pt',\n",
    "              'fr':'fr',\n",
    "              'fr-ca':'ca',\n",
    "              'en-uk':'co.uk',\n",
    "              'en':'com',\n",
    "              'es':'es',\n",
    "              'es-mx':'com.mx',\n",
    "              'zh-CN' : 'com'\n",
    "            }\n",
    "lang = output_language.split('-')[0]\n",
    "\n",
    "def play_audio(voice_file):\n",
    "    sound = AudioSegment.from_mp3(voice_file)\n",
    "    play(sound)\n",
    "    os.remove(voice_file)\n",
    "\n",
    "def get_lastest_reading():\n",
    "    global phrase\n",
    "    while get_lastest_reading_thread.is_alive():\n",
    "        global lastest_reading\n",
    "        label = lastest_reading\n",
    "        if label != \"\":\n",
    "            if label == \"dot\":\n",
    "                if phrase != \"\":\n",
    "                    spell = Speller()\n",
    "                    phrase = spell(phrase)\n",
    "                    if lang != \"en\":\n",
    "                        translate_client = translate.Client()\n",
    "                        translated_test = translate_client.translate(phrase, target_language=lang)[\"translatedText\"]\n",
    "                        voice = gTTS( text=translated_test, lang=lang, tld=top_domain[output_language], slow=False)\n",
    "                    else:\n",
    "                        voice = gTTS( text=phrase, lang=lang, tld=top_domain[output_language], slow=False) \n",
    "                    voice_file = \"voice-{}.mp3\".format(str(randint(1, 9999999)))         \n",
    "                    voice.save(voice_file)\n",
    "                    play_audio_thread = threading.Thread(target=play_audio, args=[voice_file])\n",
    "                    play_audio_thread.daemon = True\n",
    "                    play_audio_thread.start()\n",
    "                    print (\"audio:\" + phrase)\n",
    "                    phrase = \"\"                    \n",
    "            elif label == \"space\":\n",
    "                phrase += \" \"\n",
    "                spell = Speller()\n",
    "                phrase = spell(phrase)\n",
    "                print (phrase) \n",
    "            else:\n",
    "                phrase += label\n",
    "                print (label)\n",
    "            time.sleep(detection_speed) \n",
    "            lastest_reading = \"\""
   ]
  },
  {
   "cell_type": "code",
   "execution_count": null,
   "id": "comprehensive-invitation",
   "metadata": {},
   "outputs": [],
   "source": [
    "get_lastest_reading_thread = threading.Thread(target=get_lastest_reading)\n",
    "get_lastest_reading_thread.daemon = True\n",
    "\n",
    "while True:\n",
    "    ret, frame = cap.read()\n",
    "    image_np = np.array(frame)\n",
    "    input_tensor = tf.convert_to_tensor(np.expand_dims(image_np, 0), dtype=tf.float32)\n",
    "    detections = detect_fn(input_tensor)\n",
    "    \n",
    "    num_detections = int(detections.pop('num_detections'))\n",
    "    detections = {key: value[0, :num_detections].numpy()\n",
    "                  for key, value in detections.items()}\n",
    "\n",
    "    detections['num_detections'] = num_detections\n",
    "    detections['detection_classes'] = detections['detection_classes'].astype(np.int64)\n",
    "    image_np_with_detections = image_np.copy()\n",
    "    # Accuracy of 85%\n",
    "    if detections['detection_scores'][0] > 0.85:\n",
    "        index = detections['detection_classes'][0]+1\n",
    "        label = category_index[index]['name']\n",
    "        cv2.putText(image_np_with_detections, label.upper() ,(50,150), cv2.FONT_HERSHEY_SIMPLEX, 3,(0, 0, 0),6,cv2.LINE_AA)\n",
    "        cv2.putText(image_np_with_detections, str(detections['detection_scores'][0]*100)[0:4]+\"%\" ,(50,250), cv2.FONT_HERSHEY_SIMPLEX, 2,(0, 0, 0),6,cv2.LINE_AA)\n",
    "        if lastest_reading == \"\":            \n",
    "            if not get_lastest_reading_thread.is_alive():\n",
    "                get_lastest_reading_thread.start()\n",
    "            #Update the latest reading \n",
    "            lastest_reading = label \n",
    "    cv2.putText(image_np_with_detections,phrase.replace(\" \", \"-\"),(10,50), cv2.FONT_HERSHEY_SIMPLEX, 1,(0, 0, 0),3,cv2.LINE_AA)\n",
    "    cv2.imshow('ASL - Signans',  cv2.resize(image_np_with_detections, (640, 480)))   \n",
    "    # Press Q to exit\n",
    "    if cv2.waitKey(1) & 0xFF == ord('q'):\n",
    "        cap.release()\n",
    "        break\n",
    "    # Press B to delete last letter\n",
    "    if cv2.waitKey(1) & 0xFF == ord('b'):\n",
    "        if len(phrase) >= 1:\n",
    "            phrase = phrase[0: -1]\n",
    "        else:\n",
    "            phrase = \"\""
   ]
  },
  {
   "cell_type": "code",
   "execution_count": null,
   "id": "furnished-plymouth",
   "metadata": {},
   "outputs": [],
   "source": [
    "cap.release()"
   ]
  }
 ],
 "metadata": {
  "kernelspec": {
   "display_name": "Python 3",
   "language": "python",
   "name": "python3"
  },
  "language_info": {
   "codemirror_mode": {
    "name": "ipython",
    "version": 3
   },
   "file_extension": ".py",
   "mimetype": "text/x-python",
   "name": "python",
   "nbconvert_exporter": "python",
   "pygments_lexer": "ipython3",
   "version": "3.8.8"
  }
 },
 "nbformat": 4,
 "nbformat_minor": 5
}
